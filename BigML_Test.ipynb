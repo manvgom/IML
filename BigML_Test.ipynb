{
  "nbformat": 4,
  "nbformat_minor": 0,
  "metadata": {
    "colab": {
      "name": "Untitled0.ipynb",
      "provenance": [],
      "include_colab_link": true
    },
    "kernelspec": {
      "name": "python3",
      "display_name": "Python 3"
    },
    "language_info": {
      "name": "python"
    },
    "accelerator": "TPU"
  },
  "cells": [
    {
      "cell_type": "markdown",
      "metadata": {
        "id": "view-in-github",
        "colab_type": "text"
      },
      "source": [
        "<a href=\"https://colab.research.google.com/github/manvgom/IML/blob/main/BigML_Test.ipynb\" target=\"_parent\"><img src=\"https://colab.research.google.com/assets/colab-badge.svg\" alt=\"Open In Colab\"/></a>"
      ]
    },
    {
      "cell_type": "code",
      "execution_count": 1,
      "metadata": {
        "colab": {
          "base_uri": "https://localhost:8080/"
        },
        "id": "EGRow6DtIC01",
        "outputId": "7ea3162c-dc19-4fe5-c4b2-4c7c3a38b50c"
      },
      "outputs": [
        {
          "output_type": "stream",
          "name": "stdout",
          "text": [
            "Looking in indexes: https://pypi.org/simple, https://us-python.pkg.dev/colab-wheels/public/simple/\n",
            "Collecting bigml\n",
            "  Downloading bigml-7.4.2.tar.gz (6.4 MB)\n",
            "\u001b[K     |████████████████████████████████| 6.4 MB 4.2 MB/s \n",
            "\u001b[?25hCollecting unidecode\n",
            "  Downloading Unidecode-1.3.4-py3-none-any.whl (235 kB)\n",
            "\u001b[K     |████████████████████████████████| 235 kB 63.2 MB/s \n",
            "\u001b[?25hCollecting bigml-chronos>=0.4.3\n",
            "  Downloading bigml-chronos-1.0.0.tar.gz (15 kB)\n",
            "Requirement already satisfied: requests in /usr/local/lib/python3.7/dist-packages (from bigml) (2.23.0)\n",
            "Collecting requests-toolbelt\n",
            "  Downloading requests_toolbelt-0.9.1-py2.py3-none-any.whl (54 kB)\n",
            "\u001b[K     |████████████████████████████████| 54 kB 2.2 MB/s \n",
            "\u001b[?25hRequirement already satisfied: msgpack in /usr/local/lib/python3.7/dist-packages (from bigml) (1.0.3)\n",
            "Requirement already satisfied: numpy<1.22,>=1.21 in /usr/local/lib/python3.7/dist-packages (from bigml) (1.21.6)\n",
            "Requirement already satisfied: scipy in /usr/local/lib/python3.7/dist-packages (from bigml) (1.4.1)\n",
            "Collecting isoweek\n",
            "  Downloading isoweek-1.3.3-py2.py3-none-any.whl (7.1 kB)\n",
            "Requirement already satisfied: pytz in /usr/local/lib/python3.7/dist-packages (from bigml-chronos>=0.4.3->bigml) (2022.1)\n",
            "Requirement already satisfied: certifi>=2017.4.17 in /usr/local/lib/python3.7/dist-packages (from requests->bigml) (2022.5.18.1)\n",
            "Requirement already satisfied: chardet<4,>=3.0.2 in /usr/local/lib/python3.7/dist-packages (from requests->bigml) (3.0.4)\n",
            "Requirement already satisfied: urllib3!=1.25.0,!=1.25.1,<1.26,>=1.21.1 in /usr/local/lib/python3.7/dist-packages (from requests->bigml) (1.24.3)\n",
            "Requirement already satisfied: idna<3,>=2.5 in /usr/local/lib/python3.7/dist-packages (from requests->bigml) (2.10)\n",
            "Building wheels for collected packages: bigml, bigml-chronos\n",
            "  Building wheel for bigml (setup.py) ... \u001b[?25l\u001b[?25hdone\n",
            "  Created wheel for bigml: filename=bigml-7.4.2-py3-none-any.whl size=449826 sha256=0789eda9ca08aa4704a06ad97c9847f71df0c085d6dce175b7b5d8db84acbe7c\n",
            "  Stored in directory: /root/.cache/pip/wheels/a4/ea/23/2c845e82f98727fd435d5381658ee02b85deea7ecd42067167\n",
            "  Building wheel for bigml-chronos (setup.py) ... \u001b[?25l\u001b[?25hdone\n",
            "  Created wheel for bigml-chronos: filename=bigml_chronos-1.0.0-py3-none-any.whl size=14801 sha256=5515c54ecc2b6af1ad64d3b04d305519c358c37df6483bf8bd970af7602cc275\n",
            "  Stored in directory: /root/.cache/pip/wheels/66/7e/e2/3e92cb7534923c57674826fd6574b0d1e44d4eb62a7df1459b\n",
            "Successfully built bigml bigml-chronos\n",
            "Installing collected packages: isoweek, unidecode, requests-toolbelt, bigml-chronos, bigml\n",
            "Successfully installed bigml-7.4.2 bigml-chronos-1.0.0 isoweek-1.3.3 requests-toolbelt-0.9.1 unidecode-1.3.4\n"
          ]
        }
      ],
      "source": [
        "!pip install bigml"
      ]
    },
    {
      "cell_type": "code",
      "source": [
        "from bigml.api import BigML"
      ],
      "metadata": {
        "id": "i2i1FR6cIR0H"
      },
      "execution_count": 3,
      "outputs": []
    },
    {
      "cell_type": "code",
      "source": [
        "api = BigML ('manvgom','6e063c3663f309b6034bc638f2eb9b333ca8e7c1')"
      ],
      "metadata": {
        "id": "tO2piXJZIypA"
      },
      "execution_count": 4,
      "outputs": []
    },
    {
      "cell_type": "code",
      "source": [
        "project = api.create_project({'name':'220601_Test'})\n",
        "#project"
      ],
      "metadata": {
        "id": "WpP1v6ChJoIh"
      },
      "execution_count": 5,
      "outputs": []
    },
    {
      "cell_type": "code",
      "source": [
        "api = BigML('manvgom','6e063c3663f309b6034bc638f2eb9b333ca8e7c1', project = project['resource'])"
      ],
      "metadata": {
        "id": "EHGxRgtfKTHB"
      },
      "execution_count": 6,
      "outputs": []
    },
    {
      "cell_type": "code",
      "source": [
        "source = api.create_source('https://cleverdata.io/csv/telecom.csv')\n",
        "api.ok(source)"
      ],
      "metadata": {
        "colab": {
          "base_uri": "https://localhost:8080/"
        },
        "id": "oN2krR16K23L",
        "outputId": "4dfa7edc-1cae-451a-e88a-e9c41e641819"
      },
      "execution_count": 7,
      "outputs": [
        {
          "output_type": "execute_result",
          "data": {
            "text/plain": [
              "True"
            ]
          },
          "metadata": {},
          "execution_count": 7
        }
      ]
    },
    {
      "cell_type": "code",
      "source": [
        "dataset = api.create_dataset(source)\n",
        "api.ok(dataset)"
      ],
      "metadata": {
        "colab": {
          "base_uri": "https://localhost:8080/"
        },
        "id": "AgHDFzAwLRaZ",
        "outputId": "52e43700-2644-419f-bec9-c9dab8510a34"
      },
      "execution_count": 8,
      "outputs": [
        {
          "output_type": "execute_result",
          "data": {
            "text/plain": [
              "True"
            ]
          },
          "metadata": {},
          "execution_count": 8
        }
      ]
    },
    {
      "cell_type": "code",
      "source": [
        "train_dataset_ori = api.create_dataset(dataset,{\"name\":\"telecom 80%\",\"sample_rate\":0.8,\"seed\":\"mi semilla\"})\n",
        "test_dataset_ori = api.create_dataset(dataset,{\"name\":\"telecom 20%\",\"sample_rate\":0.8,\"seed\":\"mi semilla\",\"out_of_bag\": True})\n",
        "api.ok(train_dataset_ori)\n",
        "api.ok(test_dataset_ori)"
      ],
      "metadata": {
        "colab": {
          "base_uri": "https://localhost:8080/"
        },
        "id": "T-LCf095MFG5",
        "outputId": "249c0cc6-e57c-4743-9c92-7aee68c57419"
      },
      "execution_count": 9,
      "outputs": [
        {
          "output_type": "execute_result",
          "data": {
            "text/plain": [
              "True"
            ]
          },
          "metadata": {},
          "execution_count": 9
        }
      ]
    },
    {
      "cell_type": "code",
      "source": [
        "def create_eval_models(train_ds,test_ds):\n",
        "  tree = api.create_model(train_ds)\n",
        "  api.ok(tree)\n",
        "  tree_eval = api.create_evaluation(tree,test_ds)\n",
        "\n",
        "  forest = api.create_ensemble(train_ds)\n",
        "  api.ok(forest)\n",
        "  forest_eval = api.create_evaluation(forest,test_ds)\n",
        "\n",
        "  cnn = api.create_deepnet(train_ds)\n",
        "  api.ok(cnn)\n",
        "  cnn_eval = api.create_evaluation(cnn,test_ds)"
      ],
      "metadata": {
        "id": "7nCERB_aN0z-"
      },
      "execution_count": 13,
      "outputs": []
    },
    {
      "cell_type": "code",
      "source": [
        "create_eval_models(train_dataset_ori, test_dataset_ori)"
      ],
      "metadata": {
        "id": "epKyPr_fP1_X"
      },
      "execution_count": 14,
      "outputs": []
    },
    {
      "cell_type": "code",
      "source": [
        "anomaly_detector = api.create_anomaly(train_dataset_ori, {\"excluded_fields\":[\"Churn\"]})\n",
        "api.ok(anomaly_detector)"
      ],
      "metadata": {
        "colab": {
          "base_uri": "https://localhost:8080/"
        },
        "id": "FSTR3IoKQIy1",
        "outputId": "149bb2d2-6f3a-4341-bc0b-2feaa05f52d4"
      },
      "execution_count": 15,
      "outputs": [
        {
          "output_type": "execute_result",
          "data": {
            "text/plain": [
              "True"
            ]
          },
          "metadata": {},
          "execution_count": 15
        }
      ]
    },
    {
      "cell_type": "code",
      "source": [
        "batch_anomaly_train = api.create_batch_anomaly_score(anomaly_detector, train_dataset_ori, {\"all_fields\": True, \"output_dataset\": True})\n",
        "api.ok(batch_anomaly_train)\n",
        "\n",
        "batch_anomaly_test = api.create_batch_anomaly_score(anomaly_detector, test_dataset_ori, {\"all_fields\": True, \"output_dataset\": True})\n",
        "api.ok(batch_anomaly_test)"
      ],
      "metadata": {
        "colab": {
          "base_uri": "https://localhost:8080/"
        },
        "id": "FyYGVuJURs6A",
        "outputId": "3d8315f6-9a80-4ca7-d47c-f1cfe2d52d55"
      },
      "execution_count": 16,
      "outputs": [
        {
          "output_type": "execute_result",
          "data": {
            "text/plain": [
              "True"
            ]
          },
          "metadata": {},
          "execution_count": 16
        }
      ]
    },
    {
      "cell_type": "code",
      "source": [
        "score_ds = batch_anomaly_train['object']['output_dataset_resource']\n",
        "change_target = api.update_dataset(score_ds, {\"objective_field\":{\"id\":\"000013\"}})"
      ],
      "metadata": {
        "id": "0Mcp6aRaSnLh"
      },
      "execution_count": 19,
      "outputs": []
    },
    {
      "cell_type": "code",
      "source": [
        "create_eval_models(batch_anomaly_train['object']['output_dataset_resource'], \n",
        "                           batch_anomaly_test['object']['output_dataset_resource'])"
      ],
      "metadata": {
        "id": "5OpXyiNVUZEn"
      },
      "execution_count": 20,
      "outputs": []
    }
  ]
}